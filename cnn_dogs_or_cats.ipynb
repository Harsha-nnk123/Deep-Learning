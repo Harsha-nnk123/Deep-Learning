{
 "cells": [
  {
   "cell_type": "markdown",
   "metadata": {
    "id": "3DR-eO17geWu"
   },
   "source": [
    "# Convolutional Neural Network"
   ]
  },
  {
   "cell_type": "markdown",
   "metadata": {
    "id": "EMefrVPCg-60"
   },
   "source": [
    "### Importing the libraries"
   ]
  },
  {
   "cell_type": "code",
   "execution_count": 1,
   "metadata": {
    "id": "imYY517gEfTs"
   },
   "outputs": [
    {
     "name": "stdout",
     "output_type": "stream",
     "text": [
      "WARNING:tensorflow:From C:\\Users\\dell\\anaconda3\\Lib\\site-packages\\keras\\src\\losses.py:2976: The name tf.losses.sparse_softmax_cross_entropy is deprecated. Please use tf.compat.v1.losses.sparse_softmax_cross_entropy instead.\n",
      "\n"
     ]
    }
   ],
   "source": [
    "import tensorflow as tf\n",
    "from numpy import *\n",
    "from keras.preprocessing.image import ImageDataGenerator"
   ]
  },
  {
   "cell_type": "markdown",
   "metadata": {
    "id": "oxQxCBWyoGPE"
   },
   "source": [
    "## Part 1 - Data Preprocessing"
   ]
  },
  {
   "cell_type": "markdown",
   "metadata": {
    "id": "MvE-heJNo3GG"
   },
   "source": [
    "### Preprocessing the Training set"
   ]
  },
  {
   "cell_type": "code",
   "execution_count": 2,
   "metadata": {
    "id": "zS_8zDmdLwr2"
   },
   "outputs": [
    {
     "name": "stdout",
     "output_type": "stream",
     "text": [
      "Found 8000 images belonging to 2 classes.\n"
     ]
    }
   ],
   "source": [
    "training_datagen = ImageDataGenerator(\n",
    "    rescale = 1./255,\n",
    "    shear_range = 0.2,\n",
    "    zoom_range = 0.2,\n",
    "    horizontal_flip = True\n",
    ")\n",
    "training_set = training_datagen.flow_from_directory(\n",
    "    'dataset/training_set',\n",
    "    target_size = (64,64),\n",
    "    batch_size = 32,\n",
    "    class_mode = 'binary'\n",
    ")"
   ]
  },
  {
   "cell_type": "code",
   "execution_count": 14,
   "metadata": {},
   "outputs": [
    {
     "data": {
      "text/plain": [
       "(array([[[[0.16862746, 0.16238776, 0.16149904],\n",
       "          [0.1653867 , 0.15754357, 0.16146514],\n",
       "          [0.18200438, 0.17416124, 0.17808281],\n",
       "          ...,\n",
       "          [0.22226064, 0.18304496, 0.17912339],\n",
       "          [0.2012612 , 0.17520942, 0.16689987],\n",
       "          [0.19458222, 0.17889595, 0.16713125]],\n",
       " \n",
       "         [[0.16862746, 0.16238604, 0.16150245],\n",
       "          [0.16538331, 0.15754017, 0.16146174],\n",
       "          [0.18204352, 0.17420039, 0.17812195],\n",
       "          ...,\n",
       "          [0.22223683, 0.18302114, 0.17909957],\n",
       "          [0.2012561 , 0.17521451, 0.16690157],\n",
       "          [0.19458053, 0.17889425, 0.16712955]],\n",
       " \n",
       "         [[0.16862746, 0.16238435, 0.16150583],\n",
       "          [0.1653799 , 0.15753676, 0.16145833],\n",
       "          [0.18208267, 0.17423953, 0.1781611 ],\n",
       "          ...,\n",
       "          [0.222213  , 0.1829973 , 0.17907573],\n",
       "          [0.201251  , 0.17521961, 0.16690327],\n",
       "          [0.19457881, 0.17889254, 0.16712783]],\n",
       " \n",
       "         ...,\n",
       " \n",
       "         [[0.69978464, 0.6260776 , 0.37521672],\n",
       "          [0.6653503 , 0.64510065, 0.36619607],\n",
       "          [0.7552841 , 0.7725491 , 0.4795637 ],\n",
       "          ...,\n",
       "          [0.6130202 , 0.54777056, 0.3770176 ],\n",
       "          [0.6440563 , 0.5557597 , 0.36672792],\n",
       "          [0.518272  , 0.43783304, 0.23406842]],\n",
       " \n",
       "         [[0.69965357, 0.62598574, 0.37508908],\n",
       "          [0.6654303 , 0.64519936, 0.36629817],\n",
       "          [0.75526196, 0.7725491 , 0.47953308],\n",
       "          ...,\n",
       "          [0.61296743, 0.5477008 , 0.37697333],\n",
       "          [0.6441005 , 0.55579376, 0.36673814],\n",
       "          [0.5180933 , 0.43767306, 0.23391697]],\n",
       " \n",
       "         [[0.69952255, 0.62589383, 0.37496147],\n",
       "          [0.66551036, 0.64529806, 0.3664003 ],\n",
       "          [0.7552398 , 0.7725491 , 0.47950244],\n",
       "          ...,\n",
       "          [0.61291474, 0.547631  , 0.3769291 ],\n",
       "          [0.6441448 , 0.5558278 , 0.36674836],\n",
       "          [0.51791465, 0.4375131 , 0.23376551]]],\n",
       " \n",
       " \n",
       "        [[[0.63529414, 0.7294118 , 0.6431373 ],\n",
       "          [0.63529414, 0.7294118 , 0.6431373 ],\n",
       "          [0.6531936 , 0.7473113 , 0.66103673],\n",
       "          ...,\n",
       "          [0.49084947, 0.5104573 , 0.4869279 ],\n",
       "          [0.47450984, 0.49411768, 0.47058827],\n",
       "          [0.47450984, 0.49411768, 0.47058827]],\n",
       " \n",
       "         [[0.6402141 , 0.7343317 , 0.6480572 ],\n",
       "          [0.6402141 , 0.7343317 , 0.6480572 ],\n",
       "          [0.656487  , 0.7506046 , 0.6643301 ],\n",
       "          ...,\n",
       "          [0.49139476, 0.5110026 , 0.4874732 ],\n",
       "          [0.47942975, 0.4990376 , 0.47550818],\n",
       "          [0.47942975, 0.4990376 , 0.47550818]],\n",
       " \n",
       "         [[0.6531688 , 0.74728644, 0.66101193],\n",
       "          [0.6531688 , 0.74728644, 0.66101193],\n",
       "          [0.66520727, 0.7593249 , 0.6730504 ],\n",
       "          ...,\n",
       "          [0.50122577, 0.5208336 , 0.49730423],\n",
       "          [0.4873687 , 0.5069766 , 0.48344713],\n",
       "          [0.4873687 , 0.5069766 , 0.48344713]],\n",
       " \n",
       "         ...,\n",
       " \n",
       "         [[0.8520746 , 0.7461923 , 0.6285452 ],\n",
       "          [0.8520746 , 0.7461923 , 0.6285452 ],\n",
       "          [0.8567572 , 0.7532162 , 0.62386256],\n",
       "          ...,\n",
       "          [0.37326223, 0.3907396 , 0.38078338],\n",
       "          [0.3515275 , 0.3761511 , 0.3529412 ],\n",
       "          [0.3515275 , 0.3761511 , 0.3529412 ]],\n",
       " \n",
       "         [[0.84121245, 0.7382533 , 0.6191446 ],\n",
       "          [0.84121245, 0.7382533 , 0.6191446 ],\n",
       "          [0.84850186, 0.7478805 , 0.617083  ],\n",
       "          ...,\n",
       "          [0.40764016, 0.40254557, 0.38764954],\n",
       "          [0.3373267 , 0.362781  , 0.34563312],\n",
       "          [0.3373267 , 0.362781  , 0.34563312]],\n",
       " \n",
       "         [[0.8313726 , 0.73333335, 0.6117647 ],\n",
       "          [0.8313726 , 0.73333335, 0.6117647 ],\n",
       "          [0.8430438 , 0.7473387 , 0.61409897],\n",
       "          ...,\n",
       "          [0.45061463, 0.42965323, 0.40748832],\n",
       "          [0.31764707, 0.3529412 , 0.33333334],\n",
       "          [0.31764707, 0.3529412 , 0.33333334]]],\n",
       " \n",
       " \n",
       "        [[[0.9786555 , 0.05747899, 0.42957985],\n",
       "          [0.9669709 , 0.06702585, 0.4482463 ],\n",
       "          [0.950204  , 0.0581853 , 0.45098042],\n",
       "          ...,\n",
       "          [0.9964723 , 0.9929445 , 0.9992125 ],\n",
       "          [0.9960785 , 0.9951355 , 0.9970215 ],\n",
       "          [0.9960785 , 0.9960785 , 0.9960785 ]],\n",
       " \n",
       "         [[0.9786594 , 0.05745571, 0.4295488 ],\n",
       "          [0.967002  , 0.06703749, 0.44824243],\n",
       "          [0.9501729 , 0.05818918, 0.45098042],\n",
       "          ...,\n",
       "          [0.9964762 , 0.9929522 , 0.99920475],\n",
       "          [0.9960785 , 0.9951316 , 0.9970254 ],\n",
       "          [0.9960785 , 0.9960785 , 0.9960785 ]],\n",
       " \n",
       "         [[0.9786633 , 0.05743242, 0.42951778],\n",
       "          [0.96703297, 0.06704913, 0.44823855],\n",
       "          [0.95014185, 0.05819306, 0.45098042],\n",
       "          ...,\n",
       "          [0.99648   , 0.99296004, 0.99919695],\n",
       "          [0.9960785 , 0.99512774, 0.99702924],\n",
       "          [0.9960785 , 0.9960785 , 0.9960785 ]],\n",
       " \n",
       "         ...,\n",
       " \n",
       "         [[0.41557845, 0.03529412, 0.05490196],\n",
       "          [0.44991118, 0.03529412, 0.06536042],\n",
       "          [0.46002817, 0.03730182, 0.09763768],\n",
       "          ...,\n",
       "          [0.80392164, 0.7182776 , 0.6242987 ],\n",
       "          [0.80666345, 0.7340983 , 0.6521278 ],\n",
       "          [0.8012653 , 0.73679125, 0.6473967 ]],\n",
       " \n",
       "         [[0.415528  , 0.03529412, 0.05490196],\n",
       "          [0.44989952, 0.03529412, 0.06531774],\n",
       "          [0.46001652, 0.03728241, 0.09764156],\n",
       "          ...,\n",
       "          [0.80392164, 0.71828145, 0.6242792 ],\n",
       "          [0.8066596 , 0.734075  , 0.6520929 ],\n",
       "          [0.8012769 , 0.736799  , 0.64742386]],\n",
       " \n",
       "         [[0.41547754, 0.03529412, 0.05490196],\n",
       "          [0.4498879 , 0.03529412, 0.06527506],\n",
       "          [0.4600049 , 0.03726301, 0.09764544],\n",
       "          ...,\n",
       "          [0.80392164, 0.7182853 , 0.6242598 ],\n",
       "          [0.8066557 , 0.73405176, 0.65205795],\n",
       "          [0.80128855, 0.73680675, 0.647451  ]]],\n",
       " \n",
       " \n",
       "        ...,\n",
       " \n",
       " \n",
       "        [[[0.7031695 , 0.77430713, 0.7180866 ],\n",
       "          [0.7922619 , 0.8346736 , 0.8471446 ],\n",
       "          [0.84330904, 0.86972713, 0.87048906],\n",
       "          ...,\n",
       "          [0.07724712, 0.09685497, 0.08094893],\n",
       "          [0.06603516, 0.085643  , 0.06973697],\n",
       "          [0.08898741, 0.10859525, 0.09268922]],\n",
       " \n",
       "         [[0.5711764 , 0.6211145 , 0.6143963 ],\n",
       "          [0.7502505 , 0.7770565 , 0.76733434],\n",
       "          [0.4996221 , 0.51434565, 0.4300705 ],\n",
       "          ...,\n",
       "          [0.09186665, 0.1114745 , 0.09578822],\n",
       "          [0.0600079 , 0.07961575, 0.06392948],\n",
       "          [0.07642931, 0.09603715, 0.08035088]],\n",
       " \n",
       "         [[0.6819526 , 0.7228681 , 0.68907934],\n",
       "          [0.7085566 , 0.77723706, 0.7883544 ],\n",
       "          [0.53044796, 0.5157628 , 0.3985629 ],\n",
       "          ...,\n",
       "          [0.06865768, 0.08519383, 0.02969572],\n",
       "          [0.23191074, 0.24839677, 0.20214386],\n",
       "          [0.11137021, 0.12483465, 0.08764648]],\n",
       " \n",
       "         ...,\n",
       " \n",
       "         [[0.6663998 , 0.709537  , 0.73136675],\n",
       "          [0.7265204 , 0.7696577 , 0.7468685 ],\n",
       "          [0.72029227, 0.7634295 , 0.6998422 ],\n",
       "          ...,\n",
       "          [0.53029764, 0.5616702 , 0.47931725],\n",
       "          [0.56807905, 0.5994516 , 0.51709867],\n",
       "          [0.5828692 , 0.6142418 , 0.5318888 ]],\n",
       " \n",
       "         [[0.5760733 , 0.6196905 , 0.63345724],\n",
       "          [0.7419519 , 0.7850957 , 0.76301634],\n",
       "          [0.7305132 , 0.77317554, 0.72097903],\n",
       "          ...,\n",
       "          [0.5306329 , 0.56200546, 0.47965252],\n",
       "          [0.49779025, 0.5291628 , 0.44680986],\n",
       "          [0.47603202, 0.50740457, 0.42505163]],\n",
       " \n",
       "         [[0.54542774, 0.59248656, 0.59204704],\n",
       "          [0.7072892 , 0.7504683 , 0.7349447 ],\n",
       "          [0.73650074, 0.7756364 , 0.74092364],\n",
       "          ...,\n",
       "          [0.51542634, 0.54679894, 0.46444598],\n",
       "          [0.5437139 , 0.5750865 , 0.49273357],\n",
       "          [0.46003222, 0.49140477, 0.40905184]]],\n",
       " \n",
       " \n",
       "        [[[0.6964539 , 0.6037784 , 0.4946071 ],\n",
       "          [0.7289682 , 0.6318491 , 0.5128535 ],\n",
       "          [0.78309935, 0.6645831 , 0.55528784],\n",
       "          ...,\n",
       "          [0.52151453, 0.43916166, 0.33327928],\n",
       "          [0.5180827 , 0.43572974, 0.32984737],\n",
       "          [0.5228073 , 0.4404544 , 0.33457205]],\n",
       " \n",
       "         [[0.69888824, 0.6062093 , 0.49705508],\n",
       "          [0.72605795, 0.6387101 , 0.51524264],\n",
       "          [0.75395304, 0.6772442 , 0.54845035],\n",
       "          ...,\n",
       "          [0.5097677 , 0.42741475, 0.3215324 ],\n",
       "          [0.5095614 , 0.42720845, 0.32132608],\n",
       "          [0.5148881 , 0.4325352 , 0.32665285]],\n",
       " \n",
       "         [[0.6871037 , 0.5944213 , 0.4852842 ],\n",
       "          [0.72573674, 0.6434965 , 0.51653373],\n",
       "          [0.7871177 , 0.73212934, 0.58763266],\n",
       "          ...,\n",
       "          [0.49791297, 0.41556004, 0.3096777 ],\n",
       "          [0.5009255 , 0.41857255, 0.3126902 ],\n",
       "          [0.50439966, 0.42204672, 0.31616437]],\n",
       " \n",
       "         ...,\n",
       " \n",
       "         [[0.67753434, 0.60694605, 0.52045596],\n",
       "          [0.6944949 , 0.62459946, 0.535338  ],\n",
       "          [0.7006391 , 0.63397247, 0.531796  ],\n",
       "          ...,\n",
       "          [0.51567644, 0.43367806, 0.31352776],\n",
       "          [0.5280607 , 0.4578143 , 0.34515917],\n",
       "          [0.5226228 , 0.4609288 , 0.36831343]],\n",
       " \n",
       "         [[0.68222827, 0.61164004, 0.53298575],\n",
       "          [0.68406624, 0.6134976 , 0.5334252 ],\n",
       "          [0.69096076, 0.62048405, 0.53376365],\n",
       "          ...,\n",
       "          [0.5175967 , 0.43560174, 0.31546515],\n",
       "          [0.53558904, 0.4623917 , 0.36164188],\n",
       "          [0.5599698 , 0.49687108, 0.41486317]],\n",
       " \n",
       "         [[0.6973433 , 0.6229486 , 0.5559365 ],\n",
       "          [0.70456606, 0.6308372 , 0.56178737],\n",
       "          [0.7014869 , 0.63089865, 0.55223703],\n",
       "          ...,\n",
       "          [0.5242075 , 0.44221598, 0.3220931 ],\n",
       "          [0.5638968 , 0.4906032 , 0.39603546],\n",
       "          [0.5976769 , 0.5321204 , 0.4604196 ]]],\n",
       " \n",
       " \n",
       "        [[[0.07098285, 0.06461617, 0.04526384],\n",
       "          [0.06317915, 0.05498844, 0.03465742],\n",
       "          [0.04292689, 0.04290106, 0.01791158],\n",
       "          ...,\n",
       "          [0.69179034, 0.53100604, 0.3192413 ],\n",
       "          [0.68102694, 0.5199673 , 0.30930385],\n",
       "          [0.680343  , 0.51563704, 0.3195586 ]],\n",
       " \n",
       "         [[0.07872069, 0.06823448, 0.04413969],\n",
       "          [0.07652322, 0.06468368, 0.03934175],\n",
       "          [0.06186135, 0.08365513, 0.03984694],\n",
       "          ...,\n",
       "          [0.70215416, 0.54136986, 0.32960513],\n",
       "          [0.7005491 , 0.53948545, 0.32883808],\n",
       "          [0.6882755 , 0.5235696 , 0.32749116]],\n",
       " \n",
       "         [[0.40654856, 0.44017354, 0.50005764],\n",
       "          [0.29766223, 0.40531877, 0.4974827 ],\n",
       "          [0.29142395, 0.42212865, 0.5102306 ],\n",
       "          ...,\n",
       "          [0.7044256 , 0.54364127, 0.3318765 ],\n",
       "          [0.6937613 , 0.5326936 , 0.32206234],\n",
       "          [0.67914015, 0.5144342 , 0.31835577]],\n",
       " \n",
       "         ...,\n",
       " \n",
       "         [[0.7997839 , 0.7370388 , 0.6742937 ],\n",
       "          [0.7787071 , 0.7268766 , 0.6641315 ],\n",
       "          [0.80572253, 0.75474215, 0.691997  ],\n",
       "          ...,\n",
       "          [0.82692873, 0.7602621 , 0.68967384],\n",
       "          [0.8005829 , 0.7333957 , 0.66072536],\n",
       "          [0.75433874, 0.6837505 , 0.597476  ]],\n",
       " \n",
       "         [[0.79937905, 0.73663396, 0.67388886],\n",
       "          [0.81512415, 0.7633057 , 0.7005606 ],\n",
       "          [0.818526  , 0.76754564, 0.70480055],\n",
       "          ...,\n",
       "          [0.8214333 , 0.75476664, 0.6841784 ],\n",
       "          [0.8053375 , 0.7381463 , 0.6654599 ],\n",
       "          [0.78656393, 0.7159757 , 0.6297012 ]],\n",
       " \n",
       "         [[0.8229352 , 0.7601901 , 0.70043766],\n",
       "          [0.808782  , 0.75697565, 0.6944407 ],\n",
       "          [0.8184152 , 0.76743484, 0.70468974],\n",
       "          ...,\n",
       "          [0.8124672 , 0.74580055, 0.67521226],\n",
       "          [0.7932901 , 0.72649825, 0.65218234],\n",
       "          [0.7398117 , 0.6722161 , 0.5739711 ]]]], dtype=float32),\n",
       " array([1., 1., 0., 1., 1., 0., 1., 1., 0., 1., 0., 1., 0., 1., 0., 1., 1.,\n",
       "        0., 1., 1., 1., 0., 1., 1., 1., 1., 1., 0., 0., 1., 0., 1.],\n",
       "       dtype=float32))"
      ]
     },
     "execution_count": 14,
     "metadata": {},
     "output_type": "execute_result"
    }
   ],
   "source": [
    "training_set[0]"
   ]
  },
  {
   "cell_type": "markdown",
   "metadata": {
    "id": "mrCMmGw9pHys"
   },
   "source": [
    "### Preprocessing the Test set"
   ]
  },
  {
   "cell_type": "code",
   "execution_count": 4,
   "metadata": {
    "id": "QW7l24aOP42s"
   },
   "outputs": [
    {
     "name": "stdout",
     "output_type": "stream",
     "text": [
      "Found 2000 images belonging to 2 classes.\n"
     ]
    }
   ],
   "source": [
    "test_datagen = ImageDataGenerator(rescale = 1./255)\n",
    "test_set = test_datagen.flow_from_directory(\n",
    "    'dataset/test_set',\n",
    "    target_size = (64,64),\n",
    "    batch_size = 32,\n",
    "    class_mode = 'binary'\n",
    ")"
   ]
  },
  {
   "cell_type": "markdown",
   "metadata": {
    "id": "af8O4l90gk7B"
   },
   "source": [
    "## Part 2 - Building the CNN"
   ]
  },
  {
   "cell_type": "markdown",
   "metadata": {
    "id": "ces1gXY2lmoX"
   },
   "source": [
    "### Initialising the CNN"
   ]
  },
  {
   "cell_type": "code",
   "execution_count": 5,
   "metadata": {
    "id": "N7fDBz87Qzcx"
   },
   "outputs": [
    {
     "name": "stdout",
     "output_type": "stream",
     "text": [
      "WARNING:tensorflow:From C:\\Users\\dell\\anaconda3\\Lib\\site-packages\\keras\\src\\backend.py:873: The name tf.get_default_graph is deprecated. Please use tf.compat.v1.get_default_graph instead.\n",
      "\n"
     ]
    }
   ],
   "source": [
    "cnn = tf.keras.models.Sequential()"
   ]
  },
  {
   "cell_type": "markdown",
   "metadata": {
    "id": "u5YJj_XMl5LF"
   },
   "source": [
    "### Step 1 - Convolution"
   ]
  },
  {
   "cell_type": "code",
   "execution_count": 6,
   "metadata": {
    "id": "WsQs5igqXDbH"
   },
   "outputs": [],
   "source": [
    "cnn.add(tf.keras.layers.Conv2D(filters = 32,kernel_size = 2,activation = 'relu',input_shape = [64,64,3]))"
   ]
  },
  {
   "cell_type": "markdown",
   "metadata": {
    "id": "tf87FpvxmNOJ"
   },
   "source": [
    "### Step 2 - Pooling"
   ]
  },
  {
   "cell_type": "code",
   "execution_count": 7,
   "metadata": {
    "id": "xd_0lcupXk29"
   },
   "outputs": [
    {
     "name": "stdout",
     "output_type": "stream",
     "text": [
      "WARNING:tensorflow:From C:\\Users\\dell\\anaconda3\\Lib\\site-packages\\keras\\src\\layers\\pooling\\max_pooling2d.py:161: The name tf.nn.max_pool is deprecated. Please use tf.nn.max_pool2d instead.\n",
      "\n"
     ]
    }
   ],
   "source": [
    "cnn.add(tf.keras.layers.MaxPool2D(pool_size = 2,strides = 2))"
   ]
  },
  {
   "cell_type": "markdown",
   "metadata": {
    "id": "xaTOgD8rm4mU"
   },
   "source": [
    "### Adding a second convolutional layer"
   ]
  },
  {
   "cell_type": "code",
   "execution_count": 8,
   "metadata": {
    "id": "EreI2urEX9wq"
   },
   "outputs": [],
   "source": [
    "cnn.add(tf.keras.layers.Conv2D(filters = 32,kernel_size = 2,activation = 'relu'))\n",
    "cnn.add(tf.keras.layers.MaxPool2D(pool_size = 2,strides = 2))"
   ]
  },
  {
   "cell_type": "markdown",
   "metadata": {
    "id": "tmiEuvTunKfk"
   },
   "source": [
    "### Step 3 - Flattening"
   ]
  },
  {
   "cell_type": "code",
   "execution_count": 9,
   "metadata": {
    "id": "26iBsClJYBm-"
   },
   "outputs": [],
   "source": [
    "cnn.add(tf.keras.layers.Flatten())"
   ]
  },
  {
   "cell_type": "markdown",
   "metadata": {
    "id": "dAoSECOm203v"
   },
   "source": [
    "### Step 4 - Full Connection"
   ]
  },
  {
   "cell_type": "code",
   "execution_count": 10,
   "metadata": {
    "id": "7PXLyhkMYsbc"
   },
   "outputs": [],
   "source": [
    "cnn.add(tf.keras.layers.Dense(units = 130,activation = 'relu'))"
   ]
  },
  {
   "cell_type": "markdown",
   "metadata": {
    "id": "yTldFvbX28Na"
   },
   "source": [
    "### Step 5 - Output Layer"
   ]
  },
  {
   "cell_type": "code",
   "execution_count": 11,
   "metadata": {
    "id": "yLya0YSEY3o7"
   },
   "outputs": [],
   "source": [
    "cnn.add(tf.keras.layers.Dense(units = 1,activation = 'sigmoid'))"
   ]
  },
  {
   "cell_type": "markdown",
   "metadata": {
    "id": "D6XkI90snSDl"
   },
   "source": [
    "## Part 3 - Training the CNN"
   ]
  },
  {
   "cell_type": "markdown",
   "metadata": {
    "id": "vfrFQACEnc6i"
   },
   "source": [
    "### Compiling the CNN"
   ]
  },
  {
   "cell_type": "code",
   "execution_count": 12,
   "metadata": {
    "id": "aJcNh61Lm-Mf"
   },
   "outputs": [
    {
     "name": "stdout",
     "output_type": "stream",
     "text": [
      "WARNING:tensorflow:From C:\\Users\\dell\\anaconda3\\Lib\\site-packages\\keras\\src\\optimizers\\__init__.py:309: The name tf.train.Optimizer is deprecated. Please use tf.compat.v1.train.Optimizer instead.\n",
      "\n"
     ]
    }
   ],
   "source": [
    "cnn.compile(optimizer = 'adam',loss = 'binary_crossentropy',metrics = ['accuracy'])"
   ]
  },
  {
   "cell_type": "markdown",
   "metadata": {
    "id": "ehS-v3MIpX2h"
   },
   "source": [
    "### Training the CNN on the Training set and evaluating it on the Test set"
   ]
  },
  {
   "cell_type": "code",
   "execution_count": 15,
   "metadata": {
    "id": "GXx9tvEFnj9d"
   },
   "outputs": [
    {
     "name": "stdout",
     "output_type": "stream",
     "text": [
      "Epoch 1/30\n",
      "250/250 [==============================] - 91s 365ms/step - loss: 0.3199 - accuracy: 0.8615 - val_loss: 0.4890 - val_accuracy: 0.8025\n",
      "Epoch 2/30\n",
      "250/250 [==============================] - 93s 372ms/step - loss: 0.3111 - accuracy: 0.8616 - val_loss: 0.4902 - val_accuracy: 0.8065\n",
      "Epoch 3/30\n",
      "250/250 [==============================] - 93s 371ms/step - loss: 0.3089 - accuracy: 0.8644 - val_loss: 0.5065 - val_accuracy: 0.8125\n",
      "Epoch 4/30\n",
      "250/250 [==============================] - 186s 747ms/step - loss: 0.3048 - accuracy: 0.8654 - val_loss: 0.5383 - val_accuracy: 0.7955\n",
      "Epoch 5/30\n",
      "250/250 [==============================] - 96s 382ms/step - loss: 0.2865 - accuracy: 0.8785 - val_loss: 0.4955 - val_accuracy: 0.8110\n",
      "Epoch 6/30\n",
      "250/250 [==============================] - 120s 478ms/step - loss: 0.2794 - accuracy: 0.8814 - val_loss: 0.4846 - val_accuracy: 0.7995\n",
      "Epoch 7/30\n",
      "250/250 [==============================] - 270s 1s/step - loss: 0.2793 - accuracy: 0.8730 - val_loss: 0.5178 - val_accuracy: 0.8025\n",
      "Epoch 8/30\n",
      "250/250 [==============================] - 109s 434ms/step - loss: 0.2784 - accuracy: 0.8798 - val_loss: 0.5270 - val_accuracy: 0.8120\n",
      "Epoch 9/30\n",
      "250/250 [==============================] - 112s 446ms/step - loss: 0.2698 - accuracy: 0.8795 - val_loss: 0.5174 - val_accuracy: 0.8040\n",
      "Epoch 10/30\n",
      "250/250 [==============================] - 55s 217ms/step - loss: 0.2698 - accuracy: 0.8867 - val_loss: 0.4875 - val_accuracy: 0.8195\n",
      "Epoch 11/30\n",
      "250/250 [==============================] - 56s 226ms/step - loss: 0.2531 - accuracy: 0.8915 - val_loss: 0.5734 - val_accuracy: 0.7915\n",
      "Epoch 12/30\n",
      "250/250 [==============================] - 42s 167ms/step - loss: 0.2602 - accuracy: 0.8905 - val_loss: 0.5508 - val_accuracy: 0.8130\n",
      "Epoch 13/30\n",
      "250/250 [==============================] - 41s 164ms/step - loss: 0.2454 - accuracy: 0.8925 - val_loss: 0.5544 - val_accuracy: 0.8135\n",
      "Epoch 14/30\n",
      "250/250 [==============================] - 39s 156ms/step - loss: 0.2427 - accuracy: 0.8992 - val_loss: 0.6399 - val_accuracy: 0.7895\n",
      "Epoch 15/30\n",
      "250/250 [==============================] - 40s 159ms/step - loss: 0.2404 - accuracy: 0.8960 - val_loss: 0.5639 - val_accuracy: 0.7970\n",
      "Epoch 16/30\n",
      "250/250 [==============================] - 38s 153ms/step - loss: 0.2353 - accuracy: 0.8997 - val_loss: 0.5885 - val_accuracy: 0.7885\n",
      "Epoch 17/30\n",
      "250/250 [==============================] - 38s 153ms/step - loss: 0.2320 - accuracy: 0.9062 - val_loss: 0.6083 - val_accuracy: 0.7940\n",
      "Epoch 18/30\n",
      "250/250 [==============================] - 39s 156ms/step - loss: 0.2347 - accuracy: 0.9059 - val_loss: 0.5633 - val_accuracy: 0.8045\n",
      "Epoch 19/30\n",
      "250/250 [==============================] - 38s 150ms/step - loss: 0.2214 - accuracy: 0.9101 - val_loss: 0.5457 - val_accuracy: 0.8120\n",
      "Epoch 20/30\n",
      "250/250 [==============================] - 38s 153ms/step - loss: 0.2265 - accuracy: 0.9084 - val_loss: 0.5516 - val_accuracy: 0.8105\n",
      "Epoch 21/30\n",
      "250/250 [==============================] - 39s 155ms/step - loss: 0.2074 - accuracy: 0.9151 - val_loss: 0.5571 - val_accuracy: 0.8160\n",
      "Epoch 22/30\n",
      "250/250 [==============================] - 38s 151ms/step - loss: 0.2042 - accuracy: 0.9147 - val_loss: 0.5690 - val_accuracy: 0.7980\n",
      "Epoch 23/30\n",
      "250/250 [==============================] - 37s 149ms/step - loss: 0.1996 - accuracy: 0.9187 - val_loss: 0.5994 - val_accuracy: 0.8090\n",
      "Epoch 24/30\n",
      "250/250 [==============================] - 39s 157ms/step - loss: 0.1918 - accuracy: 0.9212 - val_loss: 0.5842 - val_accuracy: 0.8170\n",
      "Epoch 25/30\n",
      "250/250 [==============================] - 41s 165ms/step - loss: 0.1948 - accuracy: 0.9234 - val_loss: 0.6605 - val_accuracy: 0.7895\n",
      "Epoch 26/30\n",
      "250/250 [==============================] - 50s 200ms/step - loss: 0.1992 - accuracy: 0.9166 - val_loss: 0.6264 - val_accuracy: 0.7965\n",
      "Epoch 27/30\n",
      "250/250 [==============================] - 39s 157ms/step - loss: 0.1881 - accuracy: 0.9211 - val_loss: 0.6383 - val_accuracy: 0.7995\n",
      "Epoch 28/30\n",
      "250/250 [==============================] - 39s 157ms/step - loss: 0.1893 - accuracy: 0.9235 - val_loss: 0.6355 - val_accuracy: 0.8010\n",
      "Epoch 29/30\n",
      "250/250 [==============================] - 39s 154ms/step - loss: 0.1710 - accuracy: 0.9320 - val_loss: 0.7306 - val_accuracy: 0.7875\n",
      "Epoch 30/30\n",
      "250/250 [==============================] - 38s 154ms/step - loss: 0.1755 - accuracy: 0.9254 - val_loss: 0.6888 - val_accuracy: 0.7955\n"
     ]
    },
    {
     "data": {
      "text/plain": [
       "<keras.src.callbacks.History at 0x252397f59d0>"
      ]
     },
     "execution_count": 15,
     "metadata": {},
     "output_type": "execute_result"
    }
   ],
   "source": [
    "cnn.fit(x = training_set,validation_data = test_set,epochs = 30)"
   ]
  },
  {
   "cell_type": "markdown",
   "metadata": {
    "id": "U3PZasO0006Z"
   },
   "source": [
    "### Part 4 - Making a single prediction"
   ]
  },
  {
   "cell_type": "code",
   "execution_count": 16,
   "metadata": {
    "id": "Ajd9LK3vsgpJ"
   },
   "outputs": [
    {
     "name": "stdout",
     "output_type": "stream",
     "text": [
      "1/1 [==============================] - 0s 375ms/step\n",
      "{'cats': 0, 'dogs': 1}\n"
     ]
    },
    {
     "data": {
      "image/png": "[encoded data removed]",
      "text/plain": [
       "<Figure size 640x480 with 1 Axes>"
      ]
     },
     "metadata": {},
     "output_type": "display_data"
    }
   ],
   "source": [
    "from keras.preprocessing import image\n",
    "import matplotlib.pyplot as plt\n",
    "test_image = image.load_img('dataset/single_prediction/cat_or_dog_1.jpg',target_size = (64,64))\n",
    "plt.imshow(test_image)\n",
    "test_image = image.img_to_array(test_image)\n",
    "test_image = expand_dims(test_image,axis = 0)\n",
    "result = cnn.predict(test_image)\n",
    "print(training_set.class_indices)\n",
    "if result[0][0] == 1:\n",
    "  prediction = 'dog'\n",
    "else:\n",
    "  prediction = 'cat'"
   ]
  },
  {
   "cell_type": "code",
   "execution_count": 17,
   "metadata": {
    "id": "YdBMxZGAt_Gg"
   },
   "outputs": [
    {
     "name": "stdout",
     "output_type": "stream",
     "text": [
      "dog\n"
     ]
    }
   ],
   "source": [
    "print(prediction)"
   ]
  },
  {
   "cell_type": "code",
   "execution_count": null,
   "metadata": {},
   "outputs": [],
   "source": []
  }
 ],
 "metadata": {
  "colab": {
   "provenance": []
  },
  "kernelspec": {
   "display_name": "Python 3 (ipykernel)",
   "language": "python",
   "name": "python3"
  },
  "language_info": {
   "codemirror_mode": {
    "name": "ipython",
    "version": 3
   },
   "file_extension": ".py",
   "mimetype": "text/x-python",
   "name": "python",
   "nbconvert_exporter": "python",
   "pygments_lexer": "ipython3",
   "version": "3.11.5"
  }
 },
 "nbformat": 4,
 "nbformat_minor": 1
}
