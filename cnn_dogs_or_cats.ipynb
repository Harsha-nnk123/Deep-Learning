{
 "cells": [
  {
   "cell_type": "markdown",
   "metadata": {
    "id": "3DR-eO17geWu"
   },
   "source": [
    "# Convolutional Neural Network"
   ]
  },
  {
   "cell_type": "markdown",
   "metadata": {
    "id": "EMefrVPCg-60"
   },
   "source": [
    "### Importing the libraries"
   ]
  },
  {
   "cell_type": "code",
   "execution_count": 1,
   "metadata": {
    "id": "imYY517gEfTs"
   },
   "outputs": [
    {
     "name": "stdout",
     "output_type": "stream",
     "text": [
      "WARNING:tensorflow:From C:\\Users\\dell\\anaconda3\\Lib\\site-packages\\keras\\src\\losses.py:2976: The name tf.losses.sparse_softmax_cross_entropy is deprecated. Please use tf.compat.v1.losses.sparse_softmax_cross_entropy instead.\n",
      "\n"
     ]
    }
   ],
   "source": [
    "import tensorflow as tf\n",
    "from numpy import *\n",
    "from keras.preprocessing.image import ImageDataGenerator"
   ]
  },
  {
   "cell_type": "markdown",
   "metadata": {
    "id": "oxQxCBWyoGPE"
   },
   "source": [
    "## Part 1 - Data Preprocessing"
   ]
  },
  {
   "cell_type": "markdown",
   "metadata": {
    "id": "MvE-heJNo3GG"
   },
   "source": [
    "### Preprocessing the Training set"
   ]
  },
  {
   "cell_type": "code",
   "execution_count": 2,
   "metadata": {
    "id": "zS_8zDmdLwr2"
   },
   "outputs": [
    {
     "name": "stdout",
     "output_type": "stream",
     "text": [
      "Found 8000 images belonging to 2 classes.\n"
     ]
    }
   ],
   "source": [
    "training_datagen = ImageDataGenerator(\n",
    "    rescale = 1./255,\n",
    "    shear_range = 0.2,\n",
    "    zoom_range = 0.2,\n",
    "    horizontal_flip = True\n",
    ")\n",
    "training_set = training_datagen.flow_from_directory(\n",
    "    'dataset/training_set',\n",
    "    target_size = (64,64),\n",
    "    batch_size = 32,\n",
    "    class_mode = 'binary'\n",
    ")"
   ]
  },
  {
   "cell_type": "markdown",
   "metadata": {
    "id": "mrCMmGw9pHys"
   },
   "source": [
    "### Preprocessing the Test set"
   ]
  },
  {
   "cell_type": "code",
   "execution_count": 3,
   "metadata": {
    "id": "QW7l24aOP42s"
   },
   "outputs": [
    {
     "name": "stdout",
     "output_type": "stream",
     "text": [
      "Found 2000 images belonging to 2 classes.\n"
     ]
    }
   ],
   "source": [
    "test_datagen = ImageDataGenerator(rescale = 1./255)\n",
    "test_set = test_datagen.flow_from_directory(\n",
    "    'dataset/test_set',\n",
    "    target_size = (64,64),\n",
    "    batch_size = 32,\n",
    "    class_mode = 'binary'\n",
    ")"
   ]
  },
  {
   "cell_type": "markdown",
   "metadata": {
    "id": "af8O4l90gk7B"
   },
   "source": [
    "## Part 2 - Building the CNN"
   ]
  },
  {
   "cell_type": "markdown",
   "metadata": {
    "id": "ces1gXY2lmoX"
   },
   "source": [
    "### Initialising the CNN"
   ]
  },
  {
   "cell_type": "code",
   "execution_count": 4,
   "metadata": {
    "id": "N7fDBz87Qzcx"
   },
   "outputs": [
    {
     "name": "stdout",
     "output_type": "stream",
     "text": [
      "WARNING:tensorflow:From C:\\Users\\dell\\anaconda3\\Lib\\site-packages\\keras\\src\\backend.py:873: The name tf.get_default_graph is deprecated. Please use tf.compat.v1.get_default_graph instead.\n",
      "\n"
     ]
    }
   ],
   "source": [
    "cnn = tf.keras.models.Sequential()"
   ]
  },
  {
   "cell_type": "markdown",
   "metadata": {
    "id": "u5YJj_XMl5LF"
   },
   "source": [
    "### Step 1 - Convolution"
   ]
  },
  {
   "cell_type": "code",
   "execution_count": 5,
   "metadata": {
    "id": "WsQs5igqXDbH"
   },
   "outputs": [],
   "source": [
    "cnn.add(tf.keras.layers.Conv2D(filters = 32,kernel_size = 2,activation = 'relu',input_shape = [64,64,3]))"
   ]
  },
  {
   "cell_type": "markdown",
   "metadata": {
    "id": "tf87FpvxmNOJ"
   },
   "source": [
    "### Step 2 - Pooling"
   ]
  },
  {
   "cell_type": "code",
   "execution_count": 6,
   "metadata": {
    "id": "xd_0lcupXk29"
   },
   "outputs": [
    {
     "name": "stdout",
     "output_type": "stream",
     "text": [
      "WARNING:tensorflow:From C:\\Users\\dell\\anaconda3\\Lib\\site-packages\\keras\\src\\layers\\pooling\\max_pooling2d.py:161: The name tf.nn.max_pool is deprecated. Please use tf.nn.max_pool2d instead.\n",
      "\n"
     ]
    }
   ],
   "source": [
    "cnn.add(tf.keras.layers.MaxPool2D(pool_size = 2,strides = 2))"
   ]
  },
  {
   "cell_type": "markdown",
   "metadata": {
    "id": "xaTOgD8rm4mU"
   },
   "source": [
    "### Adding a second convolutional layer"
   ]
  },
  {
   "cell_type": "code",
   "execution_count": 7,
   "metadata": {
    "id": "EreI2urEX9wq"
   },
   "outputs": [],
   "source": [
    "cnn.add(tf.keras.layers.Conv2D(filters = 32,kernel_size = 2,activation = 'relu'))\n",
    "cnn.add(tf.keras.layers.MaxPool2D(pool_size = 2,strides = 2))"
   ]
  },
  {
   "cell_type": "markdown",
   "metadata": {
    "id": "tmiEuvTunKfk"
   },
   "source": [
    "### Step 3 - Flattening"
   ]
  },
  {
   "cell_type": "code",
   "execution_count": 8,
   "metadata": {
    "id": "26iBsClJYBm-"
   },
   "outputs": [],
   "source": [
    "cnn.add(tf.keras.layers.Flatten())"
   ]
  },
  {
   "cell_type": "markdown",
   "metadata": {
    "id": "dAoSECOm203v"
   },
   "source": [
    "### Step 4 - Full Connection"
   ]
  },
  {
   "cell_type": "code",
   "execution_count": 9,
   "metadata": {
    "id": "7PXLyhkMYsbc"
   },
   "outputs": [],
   "source": [
    "cnn.add(tf.keras.layers.Dense(units = 130,activation = 'relu'))"
   ]
  },
  {
   "cell_type": "markdown",
   "metadata": {
    "id": "yTldFvbX28Na"
   },
   "source": [
    "### Step 5 - Output Layer"
   ]
  },
  {
   "cell_type": "code",
   "execution_count": 10,
   "metadata": {
    "id": "yLya0YSEY3o7"
   },
   "outputs": [],
   "source": [
    "cnn.add(tf.keras.layers.Dense(units = 1,activation = 'sigmoid'))"
   ]
  },
  {
   "cell_type": "markdown",
   "metadata": {
    "id": "D6XkI90snSDl"
   },
   "source": [
    "## Part 3 - Training the CNN"
   ]
  },
  {
   "cell_type": "markdown",
   "metadata": {
    "id": "vfrFQACEnc6i"
   },
   "source": [
    "### Compiling the CNN"
   ]
  },
  {
   "cell_type": "code",
   "execution_count": 11,
   "metadata": {
    "id": "aJcNh61Lm-Mf"
   },
   "outputs": [
    {
     "name": "stdout",
     "output_type": "stream",
     "text": [
      "WARNING:tensorflow:From C:\\Users\\dell\\anaconda3\\Lib\\site-packages\\keras\\src\\optimizers\\__init__.py:309: The name tf.train.Optimizer is deprecated. Please use tf.compat.v1.train.Optimizer instead.\n",
      "\n"
     ]
    }
   ],
   "source": [
    "cnn.compile(optimizer = 'adam',loss = 'binary_crossentropy',metrics = ['accuracy'])"
   ]
  },
  {
   "cell_type": "markdown",
   "metadata": {
    "id": "ehS-v3MIpX2h"
   },
   "source": [
    "### Training the CNN on the Training set and evaluating it on the Test set"
   ]
  },
  {
   "cell_type": "code",
   "execution_count": 12,
   "metadata": {
    "id": "GXx9tvEFnj9d"
   },
   "outputs": [
    {
     "name": "stdout",
     "output_type": "stream",
     "text": [
      "Epoch 1/30\n",
      "WARNING:tensorflow:From C:\\Users\\dell\\anaconda3\\Lib\\site-packages\\keras\\src\\utils\\tf_utils.py:492: The name tf.ragged.RaggedTensorValue is deprecated. Please use tf.compat.v1.ragged.RaggedTensorValue instead.\n",
      "\n",
      "WARNING:tensorflow:From C:\\Users\\dell\\anaconda3\\Lib\\site-packages\\keras\\src\\engine\\base_layer_utils.py:384: The name tf.executing_eagerly_outside_functions is deprecated. Please use tf.compat.v1.executing_eagerly_outside_functions instead.\n",
      "\n",
      "250/250 [==============================] - 97s 375ms/step - loss: 0.6527 - accuracy: 0.6130 - val_loss: 0.5935 - val_accuracy: 0.6905\n",
      "Epoch 2/30\n",
      "250/250 [==============================] - 91s 364ms/step - loss: 0.5778 - accuracy: 0.6899 - val_loss: 0.5475 - val_accuracy: 0.7280\n",
      "Epoch 3/30\n",
      "250/250 [==============================] - 91s 362ms/step - loss: 0.5503 - accuracy: 0.7130 - val_loss: 0.6965 - val_accuracy: 0.6290\n",
      "Epoch 4/30\n",
      "250/250 [==============================] - 91s 362ms/step - loss: 0.5267 - accuracy: 0.7384 - val_loss: 0.5144 - val_accuracy: 0.7465\n",
      "Epoch 5/30\n",
      "250/250 [==============================] - 91s 365ms/step - loss: 0.5042 - accuracy: 0.7524 - val_loss: 0.5067 - val_accuracy: 0.7565\n",
      "Epoch 6/30\n",
      "250/250 [==============================] - 91s 364ms/step - loss: 0.4857 - accuracy: 0.7646 - val_loss: 0.4899 - val_accuracy: 0.7715\n",
      "Epoch 7/30\n",
      "250/250 [==============================] - 90s 362ms/step - loss: 0.4709 - accuracy: 0.7713 - val_loss: 0.5205 - val_accuracy: 0.7625\n",
      "Epoch 8/30\n",
      "250/250 [==============================] - 93s 371ms/step - loss: 0.4605 - accuracy: 0.7818 - val_loss: 0.5525 - val_accuracy: 0.7380\n",
      "Epoch 9/30\n",
      "250/250 [==============================] - 137s 549ms/step - loss: 0.4431 - accuracy: 0.7918 - val_loss: 0.5896 - val_accuracy: 0.7225\n",
      "Epoch 10/30\n",
      "250/250 [==============================] - 94s 377ms/step - loss: 0.4238 - accuracy: 0.8055 - val_loss: 0.6010 - val_accuracy: 0.7265\n",
      "Epoch 11/30\n",
      "250/250 [==============================] - 92s 368ms/step - loss: 0.4213 - accuracy: 0.8033 - val_loss: 0.4773 - val_accuracy: 0.7840\n",
      "Epoch 12/30\n",
      "250/250 [==============================] - 94s 376ms/step - loss: 0.4061 - accuracy: 0.8145 - val_loss: 0.5224 - val_accuracy: 0.7675\n",
      "Epoch 13/30\n",
      "250/250 [==============================] - 93s 372ms/step - loss: 0.3923 - accuracy: 0.8188 - val_loss: 0.4712 - val_accuracy: 0.7965\n",
      "Epoch 14/30\n",
      "250/250 [==============================] - 262s 1s/step - loss: 0.3908 - accuracy: 0.8260 - val_loss: 0.4495 - val_accuracy: 0.8075\n",
      "Epoch 15/30\n",
      "250/250 [==============================] - 92s 367ms/step - loss: 0.3797 - accuracy: 0.8279 - val_loss: 0.5341 - val_accuracy: 0.7750\n",
      "Epoch 16/30\n",
      "250/250 [==============================] - 483s 2s/step - loss: 0.3737 - accuracy: 0.8310 - val_loss: 0.5201 - val_accuracy: 0.7765\n",
      "Epoch 17/30\n",
      "250/250 [==============================] - 91s 364ms/step - loss: 0.3484 - accuracy: 0.8447 - val_loss: 0.5064 - val_accuracy: 0.7900\n",
      "Epoch 18/30\n",
      "250/250 [==============================] - 91s 364ms/step - loss: 0.3458 - accuracy: 0.8469 - val_loss: 0.4803 - val_accuracy: 0.8035\n",
      "Epoch 19/30\n",
      "250/250 [==============================] - 43s 171ms/step - loss: 0.3342 - accuracy: 0.8541 - val_loss: 0.5190 - val_accuracy: 0.7875\n",
      "Epoch 20/30\n",
      "250/250 [==============================] - 39s 157ms/step - loss: 0.3182 - accuracy: 0.8614 - val_loss: 0.5290 - val_accuracy: 0.7960\n",
      "Epoch 21/30\n",
      "250/250 [==============================] - 37s 150ms/step - loss: 0.3049 - accuracy: 0.8709 - val_loss: 0.5825 - val_accuracy: 0.7740\n",
      "Epoch 22/30\n",
      "250/250 [==============================] - 38s 152ms/step - loss: 0.2998 - accuracy: 0.8705 - val_loss: 0.5317 - val_accuracy: 0.7870\n",
      "Epoch 23/30\n",
      "250/250 [==============================] - 39s 156ms/step - loss: 0.2877 - accuracy: 0.8783 - val_loss: 0.5183 - val_accuracy: 0.7970\n",
      "Epoch 24/30\n",
      "250/250 [==============================] - 38s 153ms/step - loss: 0.2776 - accuracy: 0.8804 - val_loss: 0.7809 - val_accuracy: 0.7180\n",
      "Epoch 25/30\n",
      "250/250 [==============================] - 39s 154ms/step - loss: 0.2676 - accuracy: 0.8870 - val_loss: 0.5107 - val_accuracy: 0.7965\n",
      "Epoch 26/30\n",
      "250/250 [==============================] - 39s 156ms/step - loss: 0.2570 - accuracy: 0.8905 - val_loss: 0.4955 - val_accuracy: 0.8070\n",
      "Epoch 27/30\n",
      "250/250 [==============================] - 38s 152ms/step - loss: 0.2451 - accuracy: 0.8997 - val_loss: 0.5487 - val_accuracy: 0.7970\n",
      "Epoch 28/30\n",
      "250/250 [==============================] - 38s 153ms/step - loss: 0.2300 - accuracy: 0.9047 - val_loss: 0.6941 - val_accuracy: 0.7855\n",
      "Epoch 29/30\n",
      "250/250 [==============================] - 38s 151ms/step - loss: 0.2202 - accuracy: 0.9074 - val_loss: 0.6062 - val_accuracy: 0.7870\n",
      "Epoch 30/30\n",
      "250/250 [==============================] - 39s 155ms/step - loss: 0.2055 - accuracy: 0.9187 - val_loss: 0.6613 - val_accuracy: 0.7730\n"
     ]
    },
    {
     "data": {
      "text/plain": [
       "<keras.src.callbacks.History at 0x15bce171b10>"
      ]
     },
     "execution_count": 12,
     "metadata": {},
     "output_type": "execute_result"
    }
   ],
   "source": [
    "cnn.fit(x = training_set,validation_data = test_set,epochs = 30)"
   ]
  },
  {
   "cell_type": "markdown",
   "metadata": {
    "id": "U3PZasO0006Z"
   },
   "source": [
    "### Part 4 - Making a single prediction"
   ]
  },
  {
   "cell_type": "code",
   "execution_count": 22,
   "metadata": {
    "id": "Ajd9LK3vsgpJ"
   },
   "outputs": [
    {
     "name": "stdout",
     "output_type": "stream",
     "text": [
      "1/1 [==============================] - 0s 31ms/step\n",
      "{'cats': 0, 'dogs': 1}\n"
     ]
    }
   ],
   "source": [
    "from keras.preprocessing import image\n",
    "test_image = image.load_img('dataset/single_prediction/cat_or_dog_1.jpg',target_size = (64,64))\n",
    "test_image = image.img_to_array(test_image)\n",
    "test_image = expand_dims(test_image,axis = 0)\n",
    "result = cnn.predict(test_image)\n",
    "print(training_set.class_indices)\n",
    "if result[0][0] == 1:\n",
    "  prediction = 'dog'\n",
    "else:\n",
    "  prediction = 'cat'"
   ]
  },
  {
   "cell_type": "code",
   "execution_count": 23,
   "metadata": {
    "id": "YdBMxZGAt_Gg"
   },
   "outputs": [
    {
     "name": "stdout",
     "output_type": "stream",
     "text": [
      "dog\n"
     ]
    }
   ],
   "source": [
    "print(prediction)"
   ]
  }
 ],
 "metadata": {
  "colab": {
   "provenance": []
  },
  "kernelspec": {
   "display_name": "Python 3 (ipykernel)",
   "language": "python",
   "name": "python3"
  },
  "language_info": {
   "codemirror_mode": {
    "name": "ipython",
    "version": 3
   },
   "file_extension": ".py",
   "mimetype": "text/x-python",
   "name": "python",
   "nbconvert_exporter": "python",
   "pygments_lexer": "ipython3",
   "version": "3.11.5"
  }
 },
 "nbformat": 4,
 "nbformat_minor": 1
}
